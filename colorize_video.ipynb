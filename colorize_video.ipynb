{
 "cells": [
  {
   "cell_type": "code",
   "execution_count": 1,
   "metadata": {},
   "outputs": [],
   "source": [
    "# Cool open-source image colorization tool\n",
    "# https://deepai.org/machine-learning-model/colorizer"
   ]
  },
  {
   "cell_type": "code",
   "execution_count": 2,
   "metadata": {},
   "outputs": [],
   "source": [
    "# First get black and white frames from the video "
   ]
  },
  {
   "cell_type": "code",
   "execution_count": 3,
   "metadata": {},
   "outputs": [],
   "source": [
    "import cv2 \n",
    "import os"
   ]
  },
  {
   "cell_type": "code",
   "execution_count": 4,
   "metadata": {},
   "outputs": [],
   "source": [
    "# Function to extract frames \n",
    "def FrameCapture(video_path, img_path): \n",
    "      \n",
    "    # Path to video file \n",
    "    vidObj = cv2.VideoCapture(video_path) \n",
    "  \n",
    "    # Used as counter variable \n",
    "    count = 0\n",
    "  \n",
    "    # To check whether frames were extracted \n",
    "    success = 1\n",
    "  \n",
    "    while success: \n",
    "  \n",
    "        # Read images from video \n",
    "        success, image = vidObj.read() \n",
    "  \n",
    "        # Save the frames with  \n",
    "        cv2.imwrite(\n",
    "            os.path.join(img_path, \"frame_%d.jpg\" % count), \n",
    "            image\n",
    "        ) \n",
    "  \n",
    "        count += 1"
   ]
  },
  {
   "cell_type": "code",
   "execution_count": 5,
   "metadata": {},
   "outputs": [],
   "source": [
    "gray_dir = \"gray_image_slices\"\n",
    "if not os.path.exists(gray_dir):\n",
    "    os.mkdir(gray_dir)"
   ]
  },
  {
   "cell_type": "code",
   "execution_count": 6,
   "metadata": {},
   "outputs": [],
   "source": [
    "# video_path = os.path.join(\"videos\", \"joota_final.mp4\")\n",
    "# img_path = os.path.join(gray_dir)\n",
    "# FrameCapture(video_path, img_path)"
   ]
  },
  {
   "cell_type": "code",
   "execution_count": null,
   "metadata": {},
   "outputs": [],
   "source": []
  },
  {
   "cell_type": "code",
   "execution_count": 7,
   "metadata": {},
   "outputs": [],
   "source": [
    "import requests\n",
    "from io import BytesIO\n",
    "from PIL import Image"
   ]
  },
  {
   "cell_type": "code",
   "execution_count": 8,
   "metadata": {},
   "outputs": [],
   "source": [
    "def GetColorURL(fpath):\n",
    "    r = requests.post(\n",
    "        \"https://api.deepai.org/api/colorizer\",\n",
    "        files = {\n",
    "            \"image\": open(fpath, \"rb\"),\n",
    "        },\n",
    "        headers = {\n",
    "            \"api-key\": # PASTE API KEY\n",
    "        }\n",
    "    )\n",
    "\n",
    "    response = r.json()\n",
    "    \n",
    "    return response[\"output_url\"]"
   ]
  },
  {
   "cell_type": "code",
   "execution_count": 9,
   "metadata": {},
   "outputs": [],
   "source": [
    "def download_image(url, fpath):\n",
    "    \"\"\"Function to download image from specified url\"\"\"\n",
    "    \n",
    "    r = requests.get(url)\n",
    "    \n",
    "    with open(fpath, \"wb\") as f:\n",
    "        f.write(r.content)\n",
    "        \n",
    "    return r"
   ]
  },
  {
   "cell_type": "code",
   "execution_count": 10,
   "metadata": {},
   "outputs": [],
   "source": [
    "color_dir = \"color_image_slices\"\n",
    "if not os.path.exists(color_dir):\n",
    "    os.mkdir(color_dir)"
   ]
  },
  {
   "cell_type": "code",
   "execution_count": 11,
   "metadata": {},
   "outputs": [],
   "source": [
    "for frame in os.listdir(gray_dir):\n",
    "    url = GetColorURL(os.path.join(gray_dir, frame))\n",
    "    \n",
    "    r = download_image(url, os.path.join(color_dir, frame))\n",
    "    \n",
    "#     Image.open(BytesIO(r.content))"
   ]
  },
  {
   "cell_type": "code",
   "execution_count": null,
   "metadata": {},
   "outputs": [],
   "source": []
  },
  {
   "cell_type": "code",
   "execution_count": null,
   "metadata": {},
   "outputs": [],
   "source": []
  },
  {
   "cell_type": "code",
   "execution_count": null,
   "metadata": {},
   "outputs": [],
   "source": []
  },
  {
   "cell_type": "code",
   "execution_count": null,
   "metadata": {},
   "outputs": [],
   "source": []
  }
 ],
 "metadata": {
  "kernelspec": {
   "display_name": "Python 3",
   "language": "python",
   "name": "python3"
  },
  "language_info": {
   "codemirror_mode": {
    "name": "ipython",
    "version": 3
   },
   "file_extension": ".py",
   "mimetype": "text/x-python",
   "name": "python",
   "nbconvert_exporter": "python",
   "pygments_lexer": "ipython3",
   "version": "3.7.4"
  }
 },
 "nbformat": 4,
 "nbformat_minor": 2
}
